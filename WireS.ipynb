{
  "nbformat": 4,
  "nbformat_minor": 0,
  "metadata": {
    "colab": {
      "name": "WireS.ipynb",
      "provenance": []
    },
    "kernelspec": {
      "name": "python3",
      "display_name": "Python 3"
    },
    "language_info": {
      "name": "python"
    }
  },
  "cells": [
    {
      "cell_type": "code",
      "execution_count": null,
      "metadata": {
        "colab": {
          "base_uri": "https://localhost:8080/"
        },
        "id": "iZgvODBRxa60",
        "outputId": "d7d02d76-d811-4394-8039-6d3f9fbfa39f"
      },
      "outputs": [
        {
          "output_type": "stream",
          "name": "stdout",
          "text": [
            "Looking in indexes: https://pypi.org/simple, https://us-python.pkg.dev/colab-wheels/public/simple/\n",
            "Requirement already satisfied: dpkt in /usr/local/lib/python3.7/dist-packages (1.9.7.2)\n",
            "Looking in indexes: https://pypi.org/simple, https://us-python.pkg.dev/colab-wheels/public/simple/\n",
            "Collecting pygeoip\n",
            "  Downloading pygeoip-0.3.2-py2.py3-none-any.whl (20 kB)\n",
            "Installing collected packages: pygeoip\n",
            "Successfully installed pygeoip-0.3.2\n"
          ]
        }
      ],
      "source": [
        "!pip install dpkt\n",
        "!pip install pygeoip\n",
        "import dpkt\n",
        "import socket\n",
        "import pygeoip\n",
        "\n",
        "gi = pygeoip.GeoIP('GeoLiteCity.dat')"
      ]
    },
    {
      "cell_type": "code",
      "source": [
        "def main():\n",
        "    f = open('wire.pcap', 'rb')\n",
        "    pcap = dpkt.pcap.Reader(f)\n",
        "    kmlheader = '<?xml version=\"1.0\" encoding=\"UTF-8\"?> \\n<kml xmlns=\"http://www.opengis.net/kml/2.2\">\\n<Document>\\n'\\\n",
        "    '<Style id=\"transBluePoly\">' \\\n",
        "                '<LineStyle>' \\\n",
        "                '<width>1.5</width>' \\\n",
        "                '<color>501400E6</color>' \\\n",
        "                '</LineStyle>' \\\n",
        "                '</Style>'\n",
        "    kmlfooter = '</Document>\\n</kml>\\n'\n",
        "    kmldoc=kmlheader+plotIPs(pcap)+kmlfooter\n",
        "    print(kmldoc)"
      ],
      "metadata": {
        "id": "fj9baCJ72BKt"
      },
      "execution_count": null,
      "outputs": []
    },
    {
      "cell_type": "code",
      "source": [
        "def plotIPs(pcap):\n",
        "    kmlPts = ''\n",
        "    for (ts, buf) in pcap:\n",
        "        try:\n",
        "            eth = dpkt.ethernet.Ethernet(buf)\n",
        "            ip = eth.data\n",
        "            src = socket.inet_ntoa(ip.src)\n",
        "            dst = socket.inet_ntoa(ip.dst)\n",
        "            KML = retKML(dst, src)\n",
        "            kmlPts = kmlPts + KML\n",
        "        except:\n",
        "            pass\n",
        "    return kmlPts"
      ],
      "metadata": {
        "id": "Xu0Isjx_25Hh"
      },
      "execution_count": null,
      "outputs": []
    },
    {
      "cell_type": "code",
      "source": [
        "def retKML(dstip, srcip):\n",
        "    dst = gi.record_by_name(dstip)\n",
        "    src = gi.record_by_name('xx.x.x.x') #Ip of device for which tcpdump was captured\n",
        "    try:\n",
        "        dstlongitude = dst['longitude']\n",
        "        dstlatitude = dst['latitude']\n",
        "        srclongitude = src['longitude']\n",
        "        srclatitude = src['latitude']\n",
        "        kml = (\n",
        "            '<Placemark>\\n'\n",
        "            '<name>%s</name>\\n'\n",
        "            '<extrude>1</extrude>\\n'\n",
        "            '<tessellate>1</tessellate>\\n'\n",
        "            '<styleUrl>#transBluePoly</styleUrl>\\n'\n",
        "            '<LineString>\\n'\n",
        "            '<coordinates>%6f,%6f\\n%6f,%6f</coordinates>\\n'\n",
        "            '</LineString>\\n'\n",
        "            '</Placemark>\\n'\n",
        "        )%(dstip, dstlongitude, dstlatitude, srclongitude, srclatitude)\n",
        "        return kml\n",
        "    except:\n",
        "        return ''\n"
      ],
      "metadata": {
        "id": "rNgwKKdg3B2r"
      },
      "execution_count": 12,
      "outputs": []
    },
    {
      "cell_type": "code",
      "source": [
        "if __name__ == '__main__':\n",
        "    main()"
      ],
      "metadata": {
        "id": "e6pIpxMg3mDu"
      },
      "execution_count": null,
      "outputs": []
    }
  ]
}